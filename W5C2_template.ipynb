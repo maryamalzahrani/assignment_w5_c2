{
  "nbformat": 4,
  "nbformat_minor": 5,
  "metadata": {
    "kernelspec": {
      "display_name": "Python 3",
      "language": "python",
      "name": "python3"
    },
    "language_info": {
      "codemirror_mode": {
        "name": "ipython",
        "version": 3
      },
      "file_extension": ".py",
      "mimetype": "text/x-python",
      "name": "python",
      "nbconvert_exporter": "python",
      "pygments_lexer": "ipython3",
      "version": "3.8.8"
    },
    "colab": {
      "name": "W5C2_template.ipynb",
      "provenance": [],
      "include_colab_link": true
    }
  },
  "cells": [
    {
      "cell_type": "markdown",
      "metadata": {
        "id": "view-in-github",
        "colab_type": "text"
      },
      "source": [
        "<a href=\"https://colab.research.google.com/github/maryamalzahrani/assignment_w5_c2/blob/main/W5C2_template.ipynb\" target=\"_parent\"><img src=\"https://colab.research.google.com/assets/colab-badge.svg\" alt=\"Open In Colab\"/></a>"
      ]
    },
    {
      "cell_type": "code",
      "metadata": {
        "id": "340fc877-2a30-4131-a7fd-8d6ee02b3b7c"
      },
      "source": [
        ""
      ],
      "id": "340fc877-2a30-4131-a7fd-8d6ee02b3b7c",
      "execution_count": null,
      "outputs": []
    },
    {
      "cell_type": "code",
      "metadata": {
        "id": "f6a6b05c-3ea1-4497-a3a5-c65b9e775bea"
      },
      "source": [
        "import yfinance\n",
        "import numpy as np\n",
        "import pandas as pd\n",
        "import pandas\n",
        "import yfinance as yf\n",
        "from pandas_datareader import data as pdr\n",
        "yf.pdr_override()\n",
        "\n",
        "import cufflinks as cf\n",
        "cf.set_config_file(offline=True)\n",
        "\n",
        "import warnings\n",
        "warnings.filterwarnings(\"ignore\")\n"
      ],
      "id": "f6a6b05c-3ea1-4497-a3a5-c65b9e775bea",
      "execution_count": null,
      "outputs": []
    },
    {
      "cell_type": "code",
      "metadata": {
        "id": "de4667a7-acd1-4a48-86e2-5fcae1441c7e"
      },
      "source": [
        "from ActMng import AccountManager"
      ],
      "id": "de4667a7-acd1-4a48-86e2-5fcae1441c7e",
      "execution_count": null,
      "outputs": []
    },
    {
      "cell_type": "code",
      "metadata": {
        "id": "e9f4a9c8-9fd9-4e41-8690-28d5096ec77e"
      },
      "source": [
        "starting_capital = 100000\n",
        "allocation = 0.8\n",
        "\n",
        "symbol = 'SPY'\n",
        "\n",
        "long_trend_days = 12\n",
        "short_trend_days = 6"
      ],
      "id": "e9f4a9c8-9fd9-4e41-8690-28d5096ec77e",
      "execution_count": null,
      "outputs": []
    },
    {
      "cell_type": "code",
      "metadata": {
        "id": "b5488c39-a6f2-48d1-b559-32b15ffef889"
      },
      "source": [
        "def fetch_data(symbol:str='SPY', start_date:str='2020', end_date:str=None):\n",
        "    \n",
        "    if end_date is None:\n",
        "        end = pandas.Timestamp.now()\n",
        "    else:\n",
        "        end = end_date\n",
        "    \n",
        "    return pdr.get_data_yahoo(symbol, pandas.Timestamp(start_date), pandas.Timestamp(end))[['Open','Close']]\n",
        "df = fetch_data(symbol)"
      ],
      "id": "b5488c39-a6f2-48d1-b559-32b15ffef889",
      "execution_count": null,
      "outputs": []
    },
    {
      "cell_type": "code",
      "metadata": {
        "id": "34320fbf-0386-484d-a314-efe7be6c78fc"
      },
      "source": [
        "fast_trend = df.Open.rolling(window=short_trend_days).mean()\n",
        "slow_trend = df.Open.rolling(window=long_trend_days).mean()\n",
        "\n",
        "df['ma_fast'] = fast_trend\n",
        "df['ma_slow'] = slow_trend\n",
        "df[['Close','ma_fast','ma_slow']].iplot()"
      ],
      "id": "34320fbf-0386-484d-a314-efe7be6c78fc",
      "execution_count": null,
      "outputs": []
    },
    {
      "cell_type": "code",
      "metadata": {
        "id": "33ae9d4a-c394-4bb6-92d0-0947e4c5641b"
      },
      "source": [
        "df['trade_direction'] = np.sign(fast_trend-slow_trend)\n",
        "df"
      ],
      "id": "33ae9d4a-c394-4bb6-92d0-0947e4c5641b",
      "execution_count": null,
      "outputs": []
    },
    {
      "cell_type": "code",
      "metadata": {
        "id": "494c4fd6-ec2d-4d80-a67b-f7b98f0c388d"
      },
      "source": [
        "#Determine the direction of the moving average differences\n",
        "df_trades = df['trade_direction'].dropna().diff().dropna().apply(np.sign).astype('int8')\n",
        "df_trades = pandas.DataFrame(df_trades[df_trades !=0])\n",
        "\n",
        "#Label our intended trades\n",
        "df_trades['trade'] = df['trade_direction'].map({1:'Long',-1:'Short'})\n",
        "df['trades'] = df_trades['trade']\n"
      ],
      "id": "494c4fd6-ec2d-4d80-a67b-f7b98f0c388d",
      "execution_count": null,
      "outputs": []
    },
    {
      "cell_type": "code",
      "metadata": {
        "id": "2aab4ac5-7dec-4519-8aad-cde3cdbb7959"
      },
      "source": [
        "#Label our opening trade after removing our window period\n",
        "df['trades'].replace(pandas.np.NaN,'None',inplace=True)\n",
        "df = df.dropna()\n",
        "df['trades'].iloc[0]=('Long' if df['trade_direction'].iloc[0]==1.0 else 'Short')\n",
        "df"
      ],
      "id": "2aab4ac5-7dec-4519-8aad-cde3cdbb7959",
      "execution_count": null,
      "outputs": []
    },
    {
      "cell_type": "code",
      "metadata": {
        "id": "2c017987-4cbb-40e9-88cc-4934774d910c"
      },
      "source": [
        "# Our trading strategy implementation - feel free to brose ActMng.py if you are curious.\n",
        "trading_strategy = AccountManager(symbol=symbol,trades_df=df,starting_capital=starting_capital,allocation_amount=allocation)\n",
        "results = trading_strategy.run()"
      ],
      "id": "2c017987-4cbb-40e9-88cc-4934774d910c",
      "execution_count": null,
      "outputs": []
    },
    {
      "cell_type": "code",
      "metadata": {
        "id": "550ce205-2a4b-4515-ba35-6d0868767489"
      },
      "source": [
        "#Here we can see a day by day breakdown of the account\n",
        "results['result_df']"
      ],
      "id": "550ce205-2a4b-4515-ba35-6d0868767489",
      "execution_count": null,
      "outputs": []
    },
    {
      "cell_type": "code",
      "metadata": {
        "id": "4b4a860d-07a7-4ecc-bf63-6aa05f2cc34d"
      },
      "source": [
        "# Here are our simulated orders as we would submit to an API endpoint for algorthmic trading. \n",
        "results['broker_orders']"
      ],
      "id": "4b4a860d-07a7-4ecc-bf63-6aa05f2cc34d",
      "execution_count": null,
      "outputs": []
    },
    {
      "cell_type": "code",
      "metadata": {
        "id": "27a9f830-bdb6-4f34-aa45-a30f9158a2eb"
      },
      "source": [
        "#Todo:\n",
        "# Calculate the Absolute Return of our trend-following trading strategy\n",
        "absolute_return_tf = #Todo\n",
        "\n",
        "# Calculate the CAGR or our trend-following trading strategy\n",
        "CAGR_tf = #Todo\n",
        "\n",
        "# Calculate the IR (Sharpe without RF-rate) of our trend-following trading strategy\n",
        "information_ratio_tf = #Todo\n",
        "\n",
        "#Plot the equity curve (hint: use 'account_val')\n",
        "# Todo"
      ],
      "id": "27a9f830-bdb6-4f34-aa45-a30f9158a2eb",
      "execution_count": null,
      "outputs": []
    },
    {
      "cell_type": "code",
      "metadata": {
        "id": "6b3a25a4-4585-45e5-b468-47a87a2d48ff"
      },
      "source": [
        "#Todo:\n",
        "# Calculate the Absolute Return of a buy-and-hold strategy in the same period\n",
        "absolute_return_bh = #Todo\n",
        "# Calculate the CAGR or our trend-following trading strategy\n",
        "CAGR_bh = #Todo\n",
        "# Calculate the IR (Sharpe without RF-rate) of our trend-following trading strategy\n",
        "information_ratio_bh = #Todo\n",
        "\n",
        "#Plot the equity curve (hint: use 'close' returns and your initial capital value to generate an equity curve)\n",
        "# Todo"
      ],
      "id": "6b3a25a4-4585-45e5-b468-47a87a2d48ff",
      "execution_count": null,
      "outputs": []
    },
    {
      "cell_type": "code",
      "metadata": {
        "id": "422032a2-2266-4316-b196-cb55d5746b6e"
      },
      "source": [
        "#Todo - optional, below:\n",
        "# Copy any of the code from above to new cells below, and see how changing the symbol, dates and trend parameters changes the performance\n",
        "# Can you beat the reference implementation?"
      ],
      "id": "422032a2-2266-4316-b196-cb55d5746b6e",
      "execution_count": null,
      "outputs": []
    }
  ]
}